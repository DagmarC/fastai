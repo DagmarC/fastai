{
 "cells": [
  {
   "cell_type": "code",
   "execution_count": 1,
   "id": "c3cc0d1e-2095-4756-a37b-37a7299d74e3",
   "metadata": {},
   "outputs": [
    {
     "name": "stdout",
     "output_type": "stream",
     "text": [
      "Requirement already satisfied: torch in /Users/dagmarmac/miniconda3/lib/python3.12/site-packages (2.3.1)\n",
      "Requirement already satisfied: filelock in /Users/dagmarmac/miniconda3/lib/python3.12/site-packages (from torch) (3.13.1)\n",
      "Requirement already satisfied: typing-extensions>=4.8.0 in /Users/dagmarmac/miniconda3/lib/python3.12/site-packages (from torch) (4.11.0)\n",
      "Requirement already satisfied: sympy in /Users/dagmarmac/miniconda3/lib/python3.12/site-packages (from torch) (1.12)\n",
      "Requirement already satisfied: networkx in /Users/dagmarmac/miniconda3/lib/python3.12/site-packages (from torch) (3.2.1)\n",
      "Requirement already satisfied: jinja2 in /Users/dagmarmac/miniconda3/lib/python3.12/site-packages (from torch) (3.1.4)\n",
      "Collecting fsspec (from torch)\n",
      "  Downloading fsspec-2024.6.1-py3-none-any.whl.metadata (11 kB)\n",
      "Requirement already satisfied: MarkupSafe>=2.0 in /Users/dagmarmac/miniconda3/lib/python3.12/site-packages (from jinja2->torch) (2.1.3)\n",
      "Requirement already satisfied: mpmath>=0.19 in /Users/dagmarmac/miniconda3/lib/python3.12/site-packages (from sympy->torch) (1.3.0)\n",
      "Downloading fsspec-2024.6.1-py3-none-any.whl (177 kB)\n",
      "\u001b[2K   \u001b[90m━━━━━━━━━━━━━━━━━━━━━━━━━━━━━━━━━━━━━━━━\u001b[0m \u001b[32m177.6/177.6 kB\u001b[0m \u001b[31m1.9 MB/s\u001b[0m eta \u001b[36m0:00:00\u001b[0ma \u001b[36m0:00:01\u001b[0m\n",
      "\u001b[?25hInstalling collected packages: fsspec\n",
      "Successfully installed fsspec-2024.6.1\n"
     ]
    }
   ],
   "source": [
    "!pip install torch"
   ]
  },
  {
   "cell_type": "code",
   "execution_count": 38,
   "id": "7b785816-4ed6-4ebb-8d5a-993b8d0c47e9",
   "metadata": {},
   "outputs": [],
   "source": [
    "import torch\n",
    "import torch.nn as nn"
   ]
  },
  {
   "cell_type": "code",
   "execution_count": 66,
   "id": "2b2a3657-0f4e-4f5f-9492-4b0167e7a6dd",
   "metadata": {},
   "outputs": [],
   "source": [
    "class Model:\n",
    "    def __init__(self, n, lr=0.001):\n",
    "        self.weights = self._init_params(n)\n",
    "        self.bias = self._init_params(1)\n",
    "        self.lr = lr  # Learning rate\n",
    "\n",
    "    # randomly initialize num number of parameters\n",
    "    def _init_params(self, num):\n",
    "        return torch.randn(num, requires_grad=True)\n",
    "\n",
    "    def sgd(self):\n",
    "        with torch.no_grad():  # Don't track gradients during parameter update\n",
    "            if self.weights.grad is not None:\n",
    "                self.weights -= self.lr * self.weights.grad  # Update weights\n",
    "            if self.bias.grad is not None:\n",
    "                self.bias -= self.lr * self.bias.grad  # Update bias  \n",
    "                \n",
    "        # Zero out the gradients after each step\n",
    "        if self.weights.grad is not None:\n",
    "            self.weights.grad.zero_()  \n",
    "        if self.bias.grad is not None:\n",
    "            self.bias.grad.zero_()\n",
    "\n",
    "    \n",
    "    # Forward pass with non-linearity (ReLU)\n",
    "    def forward_pass(self, x):\n",
    "        preds = x @ self.weights + self.bias  # Linear transformation\n",
    "        preds_nonlinear = torch.clamp(preds, min=0)  # Apply ReLU nonlinearity\n",
    "        return preds_nonlinear\n",
    "\n",
    "    \n",
    "    def loss_rmse(self, predictions, targets):\n",
    "        squared_diff = (predictions-targets)**2\n",
    "        mse = torch.mean(squared_diff) \n",
    "        rmse = torch.sqrt(mse) # root mean squared error\n",
    "        \n",
    "        return rmse\n",
    "\n",
    "    \n",
    "    def train(self, x, y):\n",
    "        preds = self.forward_pass(x) # x represents input data\n",
    "        loss = self.loss_rmse(preds, y) # y represents target values\n",
    "        loss.backward()\n",
    "        self.sgd()\n",
    "        return loss.item()  # loss value for monitoring"
   ]
  },
  {
   "cell_type": "code",
   "execution_count": 67,
   "id": "38c3833e-268e-48fa-b6b7-e93a5e763e6b",
   "metadata": {},
   "outputs": [],
   "source": [
    "n_features = 3\n",
    "lr = 0.1\n",
    "model = Model(3, lr)\n",
    "epochs = 20"
   ]
  },
  {
   "cell_type": "code",
   "execution_count": 68,
   "id": "c32c23d3-29a4-40b2-bbde-133bcf191ab7",
   "metadata": {},
   "outputs": [
    {
     "name": "stdout",
     "output_type": "stream",
     "text": [
      "epoch number 1, loss:  0.7851237654685974\n",
      "epoch number 2, loss:  0.6501047015190125\n",
      "epoch number 3, loss:  0.5552520155906677\n",
      "epoch number 4, loss:  0.4971569776535034\n",
      "epoch number 5, loss:  0.46175599098205566\n",
      "epoch number 6, loss:  0.4361795485019684\n",
      "epoch number 7, loss:  0.41445833444595337\n",
      "epoch number 8, loss:  0.39480048418045044\n",
      "epoch number 9, loss:  0.3768373429775238\n",
      "epoch number 10, loss:  0.36055251955986023\n",
      "epoch number 11, loss:  0.3459792137145996\n",
      "epoch number 12, loss:  0.3331274688243866\n",
      "epoch number 13, loss:  0.3219658434391022\n",
      "epoch number 14, loss:  0.31241950392723083\n",
      "epoch number 15, loss:  0.3043743073940277\n",
      "epoch number 16, loss:  0.29768598079681396\n",
      "epoch number 17, loss:  0.2921919524669647\n",
      "epoch number 18, loss:  0.2877233922481537\n",
      "epoch number 19, loss:  0.2841164767742157\n",
      "epoch number 20, loss:  0.2812194526195526\n"
     ]
    }
   ],
   "source": [
    "# Example input and target data\n",
    "x = torch.randn(5, n_features)  # 5 examples, 3 features each\n",
    "y = torch.randn(5)  # 5 target values\n",
    "\n",
    "for i in range(epochs):\n",
    "    loss = model.train(x, y)\n",
    "    print(f\"epoch number {i+1}, loss: \", loss)"
   ]
  }
 ],
 "metadata": {
  "kernelspec": {
   "display_name": "Python 3 (ipykernel)",
   "language": "python",
   "name": "python3"
  },
  "language_info": {
   "codemirror_mode": {
    "name": "ipython",
    "version": 3
   },
   "file_extension": ".py",
   "mimetype": "text/x-python",
   "name": "python",
   "nbconvert_exporter": "python",
   "pygments_lexer": "ipython3",
   "version": "3.12.2"
  }
 },
 "nbformat": 4,
 "nbformat_minor": 5
}
