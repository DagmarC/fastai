{
 "cells": [
  {
   "cell_type": "code",
   "execution_count": 1,
   "id": "3e3eb687-f1b9-40eb-876d-ee9ec15df23a",
   "metadata": {
    "scrolled": true
   },
   "outputs": [
    {
     "name": "stdout",
     "output_type": "stream",
     "text": [
      "Requirement already satisfied: fastai in /Users/dagmarmac/miniconda3/lib/python3.12/site-packages (2.7.17)\n",
      "Requirement already satisfied: pip in /Users/dagmarmac/miniconda3/lib/python3.12/site-packages (from fastai) (24.0)\n",
      "Requirement already satisfied: packaging in /Users/dagmarmac/miniconda3/lib/python3.12/site-packages (from fastai) (23.2)\n",
      "Requirement already satisfied: fastdownload<2,>=0.0.5 in /Users/dagmarmac/miniconda3/lib/python3.12/site-packages (from fastai) (0.0.7)\n",
      "Requirement already satisfied: fastcore<1.8,>=1.5.29 in /Users/dagmarmac/miniconda3/lib/python3.12/site-packages (from fastai) (1.5.48)\n",
      "Requirement already satisfied: torchvision>=0.11 in /Users/dagmarmac/miniconda3/lib/python3.12/site-packages (from fastai) (0.19.1)\n",
      "Requirement already satisfied: matplotlib in /Users/dagmarmac/miniconda3/lib/python3.12/site-packages (from fastai) (3.8.4)\n",
      "Requirement already satisfied: pandas in /Users/dagmarmac/miniconda3/lib/python3.12/site-packages (from fastai) (2.2.2)\n",
      "Requirement already satisfied: requests in /Users/dagmarmac/miniconda3/lib/python3.12/site-packages (from fastai) (2.32.3)\n",
      "Requirement already satisfied: pyyaml in /Users/dagmarmac/miniconda3/lib/python3.12/site-packages (from fastai) (6.0.1)\n",
      "Requirement already satisfied: fastprogress>=0.2.4 in /Users/dagmarmac/miniconda3/lib/python3.12/site-packages (from fastai) (1.0.3)\n",
      "Requirement already satisfied: pillow>=9.0.0 in /Users/dagmarmac/miniconda3/lib/python3.12/site-packages (from fastai) (10.3.0)\n",
      "Requirement already satisfied: scikit-learn in /Users/dagmarmac/miniconda3/lib/python3.12/site-packages (from fastai) (1.4.2)\n",
      "Requirement already satisfied: scipy in /Users/dagmarmac/miniconda3/lib/python3.12/site-packages (from fastai) (1.13.1)\n",
      "Requirement already satisfied: spacy<4 in /Users/dagmarmac/miniconda3/lib/python3.12/site-packages (from fastai) (3.7.2)\n",
      "Requirement already satisfied: torch<2.5,>=1.10 in /Users/dagmarmac/miniconda3/lib/python3.12/site-packages (from fastai) (2.4.1)\n",
      "Requirement already satisfied: spacy-legacy<3.1.0,>=3.0.11 in /Users/dagmarmac/miniconda3/lib/python3.12/site-packages (from spacy<4->fastai) (3.0.12)\n",
      "Requirement already satisfied: spacy-loggers<2.0.0,>=1.0.0 in /Users/dagmarmac/miniconda3/lib/python3.12/site-packages (from spacy<4->fastai) (1.0.4)\n",
      "Requirement already satisfied: murmurhash<1.1.0,>=0.28.0 in /Users/dagmarmac/miniconda3/lib/python3.12/site-packages (from spacy<4->fastai) (1.0.7)\n",
      "Requirement already satisfied: cymem<2.1.0,>=2.0.2 in /Users/dagmarmac/miniconda3/lib/python3.12/site-packages (from spacy<4->fastai) (2.0.6)\n",
      "Requirement already satisfied: preshed<3.1.0,>=3.0.2 in /Users/dagmarmac/miniconda3/lib/python3.12/site-packages (from spacy<4->fastai) (3.0.6)\n",
      "Requirement already satisfied: thinc<8.3.0,>=8.1.8 in /Users/dagmarmac/miniconda3/lib/python3.12/site-packages (from spacy<4->fastai) (8.2.2)\n",
      "Requirement already satisfied: wasabi<1.2.0,>=0.9.1 in /Users/dagmarmac/miniconda3/lib/python3.12/site-packages (from spacy<4->fastai) (0.9.1)\n",
      "Requirement already satisfied: srsly<3.0.0,>=2.4.3 in /Users/dagmarmac/miniconda3/lib/python3.12/site-packages (from spacy<4->fastai) (2.4.8)\n",
      "Requirement already satisfied: catalogue<2.1.0,>=2.0.6 in /Users/dagmarmac/miniconda3/lib/python3.12/site-packages (from spacy<4->fastai) (2.0.10)\n",
      "Requirement already satisfied: weasel<0.4.0,>=0.1.0 in /Users/dagmarmac/miniconda3/lib/python3.12/site-packages (from spacy<4->fastai) (0.3.4)\n",
      "Requirement already satisfied: typer<0.10.0,>=0.3.0 in /Users/dagmarmac/miniconda3/lib/python3.12/site-packages (from spacy<4->fastai) (0.9.0)\n",
      "Requirement already satisfied: smart-open<7.0.0,>=5.2.1 in /Users/dagmarmac/miniconda3/lib/python3.12/site-packages (from spacy<4->fastai) (5.2.1)\n",
      "Requirement already satisfied: tqdm<5.0.0,>=4.38.0 in /Users/dagmarmac/miniconda3/lib/python3.12/site-packages (from spacy<4->fastai) (4.66.5)\n",
      "Requirement already satisfied: pydantic!=1.8,!=1.8.1,<3.0.0,>=1.7.4 in /Users/dagmarmac/miniconda3/lib/python3.12/site-packages (from spacy<4->fastai) (2.5.3)\n",
      "Requirement already satisfied: jinja2 in /Users/dagmarmac/miniconda3/lib/python3.12/site-packages (from spacy<4->fastai) (3.1.4)\n",
      "Requirement already satisfied: setuptools in /Users/dagmarmac/miniconda3/lib/python3.12/site-packages (from spacy<4->fastai) (69.5.1)\n",
      "Requirement already satisfied: langcodes<4.0.0,>=3.2.0 in /Users/dagmarmac/miniconda3/lib/python3.12/site-packages (from spacy<4->fastai) (3.3.0)\n",
      "Requirement already satisfied: numpy>=1.19.0 in /Users/dagmarmac/miniconda3/lib/python3.12/site-packages (from spacy<4->fastai) (1.26.4)\n",
      "Requirement already satisfied: charset-normalizer<4,>=2 in /Users/dagmarmac/miniconda3/lib/python3.12/site-packages (from requests->fastai) (2.0.4)\n",
      "Requirement already satisfied: idna<4,>=2.5 in /Users/dagmarmac/miniconda3/lib/python3.12/site-packages (from requests->fastai) (3.7)\n",
      "Requirement already satisfied: urllib3<3,>=1.21.1 in /Users/dagmarmac/miniconda3/lib/python3.12/site-packages (from requests->fastai) (2.1.0)\n",
      "Requirement already satisfied: certifi>=2017.4.17 in /Users/dagmarmac/miniconda3/lib/python3.12/site-packages (from requests->fastai) (2024.7.4)\n",
      "Requirement already satisfied: filelock in /Users/dagmarmac/miniconda3/lib/python3.12/site-packages (from torch<2.5,>=1.10->fastai) (3.13.1)\n",
      "Requirement already satisfied: typing-extensions>=4.8.0 in /Users/dagmarmac/miniconda3/lib/python3.12/site-packages (from torch<2.5,>=1.10->fastai) (4.11.0)\n",
      "Requirement already satisfied: sympy in /Users/dagmarmac/miniconda3/lib/python3.12/site-packages (from torch<2.5,>=1.10->fastai) (1.12)\n",
      "Requirement already satisfied: networkx in /Users/dagmarmac/miniconda3/lib/python3.12/site-packages (from torch<2.5,>=1.10->fastai) (3.2.1)\n",
      "Requirement already satisfied: fsspec in /Users/dagmarmac/miniconda3/lib/python3.12/site-packages (from torch<2.5,>=1.10->fastai) (2024.6.1)\n",
      "Requirement already satisfied: contourpy>=1.0.1 in /Users/dagmarmac/miniconda3/lib/python3.12/site-packages (from matplotlib->fastai) (1.2.0)\n",
      "Requirement already satisfied: cycler>=0.10 in /Users/dagmarmac/miniconda3/lib/python3.12/site-packages (from matplotlib->fastai) (0.11.0)\n",
      "Requirement already satisfied: fonttools>=4.22.0 in /Users/dagmarmac/miniconda3/lib/python3.12/site-packages (from matplotlib->fastai) (4.51.0)\n",
      "Requirement already satisfied: kiwisolver>=1.3.1 in /Users/dagmarmac/miniconda3/lib/python3.12/site-packages (from matplotlib->fastai) (1.4.4)\n",
      "Requirement already satisfied: pyparsing>=2.3.1 in /Users/dagmarmac/miniconda3/lib/python3.12/site-packages (from matplotlib->fastai) (3.0.9)\n",
      "Requirement already satisfied: python-dateutil>=2.7 in /Users/dagmarmac/miniconda3/lib/python3.12/site-packages (from matplotlib->fastai) (2.9.0.post0)\n",
      "Requirement already satisfied: pytz>=2020.1 in /Users/dagmarmac/miniconda3/lib/python3.12/site-packages (from pandas->fastai) (2024.1)\n",
      "Requirement already satisfied: tzdata>=2022.7 in /Users/dagmarmac/miniconda3/lib/python3.12/site-packages (from pandas->fastai) (2023.3)\n",
      "Requirement already satisfied: joblib>=1.2.0 in /Users/dagmarmac/miniconda3/lib/python3.12/site-packages (from scikit-learn->fastai) (1.4.2)\n",
      "Requirement already satisfied: threadpoolctl>=2.0.0 in /Users/dagmarmac/miniconda3/lib/python3.12/site-packages (from scikit-learn->fastai) (2.2.0)\n",
      "Requirement already satisfied: annotated-types>=0.4.0 in /Users/dagmarmac/miniconda3/lib/python3.12/site-packages (from pydantic!=1.8,!=1.8.1,<3.0.0,>=1.7.4->spacy<4->fastai) (0.6.0)\n",
      "Requirement already satisfied: pydantic-core==2.14.6 in /Users/dagmarmac/miniconda3/lib/python3.12/site-packages (from pydantic!=1.8,!=1.8.1,<3.0.0,>=1.7.4->spacy<4->fastai) (2.14.6)\n",
      "Requirement already satisfied: six>=1.5 in /Users/dagmarmac/miniconda3/lib/python3.12/site-packages (from python-dateutil>=2.7->matplotlib->fastai) (1.16.0)\n",
      "Requirement already satisfied: blis<0.8.0,>=0.7.8 in /Users/dagmarmac/miniconda3/lib/python3.12/site-packages (from thinc<8.3.0,>=8.1.8->spacy<4->fastai) (0.7.11)\n",
      "Requirement already satisfied: confection<1.0.0,>=0.0.1 in /Users/dagmarmac/miniconda3/lib/python3.12/site-packages (from thinc<8.3.0,>=8.1.8->spacy<4->fastai) (0.1.4)\n",
      "Requirement already satisfied: click<9.0.0,>=7.1.1 in /Users/dagmarmac/miniconda3/lib/python3.12/site-packages (from typer<0.10.0,>=0.3.0->spacy<4->fastai) (8.1.7)\n",
      "Requirement already satisfied: cloudpathlib<0.17.0,>=0.7.0 in /Users/dagmarmac/miniconda3/lib/python3.12/site-packages (from weasel<0.4.0,>=0.1.0->spacy<4->fastai) (0.16.0)\n",
      "Requirement already satisfied: MarkupSafe>=2.0 in /Users/dagmarmac/miniconda3/lib/python3.12/site-packages (from jinja2->spacy<4->fastai) (2.1.3)\n",
      "Requirement already satisfied: mpmath>=0.19 in /Users/dagmarmac/miniconda3/lib/python3.12/site-packages (from sympy->torch<2.5,>=1.10->fastai) (1.3.0)\n",
      "Requirement already satisfied: fastbook in /Users/dagmarmac/miniconda3/lib/python3.12/site-packages (0.0.29)\n",
      "Requirement already satisfied: pip in /Users/dagmarmac/miniconda3/lib/python3.12/site-packages (from fastbook) (24.0)\n",
      "Requirement already satisfied: packaging in /Users/dagmarmac/miniconda3/lib/python3.12/site-packages (from fastbook) (23.2)\n",
      "Requirement already satisfied: fastai>=2.6 in /Users/dagmarmac/miniconda3/lib/python3.12/site-packages (from fastbook) (2.7.17)\n",
      "Requirement already satisfied: graphviz in /Users/dagmarmac/miniconda3/lib/python3.12/site-packages (from fastbook) (0.20.3)\n",
      "Requirement already satisfied: pandas in /Users/dagmarmac/miniconda3/lib/python3.12/site-packages (from fastbook) (2.2.2)\n",
      "Requirement already satisfied: requests in /Users/dagmarmac/miniconda3/lib/python3.12/site-packages (from fastbook) (2.32.3)\n",
      "Requirement already satisfied: transformers in /Users/dagmarmac/miniconda3/lib/python3.12/site-packages (from fastbook) (4.44.2)\n",
      "Requirement already satisfied: datasets in /Users/dagmarmac/miniconda3/lib/python3.12/site-packages (from fastbook) (2.21.0)\n",
      "Requirement already satisfied: ipywidgets<8 in /Users/dagmarmac/miniconda3/lib/python3.12/site-packages (from fastbook) (7.8.4)\n",
      "Requirement already satisfied: sentencepiece in /Users/dagmarmac/miniconda3/lib/python3.12/site-packages (from fastbook) (0.2.0)\n",
      "Requirement already satisfied: fastdownload<2,>=0.0.5 in /Users/dagmarmac/miniconda3/lib/python3.12/site-packages (from fastai>=2.6->fastbook) (0.0.7)\n",
      "Requirement already satisfied: fastcore<1.8,>=1.5.29 in /Users/dagmarmac/miniconda3/lib/python3.12/site-packages (from fastai>=2.6->fastbook) (1.5.48)\n",
      "Requirement already satisfied: torchvision>=0.11 in /Users/dagmarmac/miniconda3/lib/python3.12/site-packages (from fastai>=2.6->fastbook) (0.19.1)\n",
      "Requirement already satisfied: matplotlib in /Users/dagmarmac/miniconda3/lib/python3.12/site-packages (from fastai>=2.6->fastbook) (3.8.4)\n",
      "Requirement already satisfied: pyyaml in /Users/dagmarmac/miniconda3/lib/python3.12/site-packages (from fastai>=2.6->fastbook) (6.0.1)\n",
      "Requirement already satisfied: fastprogress>=0.2.4 in /Users/dagmarmac/miniconda3/lib/python3.12/site-packages (from fastai>=2.6->fastbook) (1.0.3)\n",
      "Requirement already satisfied: pillow>=9.0.0 in /Users/dagmarmac/miniconda3/lib/python3.12/site-packages (from fastai>=2.6->fastbook) (10.3.0)\n",
      "Requirement already satisfied: scikit-learn in /Users/dagmarmac/miniconda3/lib/python3.12/site-packages (from fastai>=2.6->fastbook) (1.4.2)\n",
      "Requirement already satisfied: scipy in /Users/dagmarmac/miniconda3/lib/python3.12/site-packages (from fastai>=2.6->fastbook) (1.13.1)\n",
      "Requirement already satisfied: spacy<4 in /Users/dagmarmac/miniconda3/lib/python3.12/site-packages (from fastai>=2.6->fastbook) (3.7.2)\n",
      "Requirement already satisfied: torch<2.5,>=1.10 in /Users/dagmarmac/miniconda3/lib/python3.12/site-packages (from fastai>=2.6->fastbook) (2.4.1)\n",
      "Requirement already satisfied: comm>=0.1.3 in /Users/dagmarmac/miniconda3/lib/python3.12/site-packages (from ipywidgets<8->fastbook) (0.2.2)\n",
      "Requirement already satisfied: ipython-genutils~=0.2.0 in /Users/dagmarmac/miniconda3/lib/python3.12/site-packages (from ipywidgets<8->fastbook) (0.2.0)\n",
      "Requirement already satisfied: traitlets>=4.3.1 in /Users/dagmarmac/miniconda3/lib/python3.12/site-packages (from ipywidgets<8->fastbook) (5.10.1)\n",
      "Requirement already satisfied: widgetsnbextension~=3.6.9 in /Users/dagmarmac/miniconda3/lib/python3.12/site-packages (from ipywidgets<8->fastbook) (3.6.9)\n",
      "Requirement already satisfied: ipython>=4.0.0 in /Users/dagmarmac/miniconda3/lib/python3.12/site-packages (from ipywidgets<8->fastbook) (8.15.0)\n",
      "Requirement already satisfied: jupyterlab-widgets<3,>=1.0.0 in /Users/dagmarmac/miniconda3/lib/python3.12/site-packages (from ipywidgets<8->fastbook) (1.1.10)\n",
      "Requirement already satisfied: filelock in /Users/dagmarmac/miniconda3/lib/python3.12/site-packages (from datasets->fastbook) (3.13.1)\n",
      "Requirement already satisfied: numpy>=1.17 in /Users/dagmarmac/miniconda3/lib/python3.12/site-packages (from datasets->fastbook) (1.26.4)\n",
      "Requirement already satisfied: pyarrow>=15.0.0 in /Users/dagmarmac/miniconda3/lib/python3.12/site-packages (from datasets->fastbook) (17.0.0)\n",
      "Requirement already satisfied: dill<0.3.9,>=0.3.0 in /Users/dagmarmac/miniconda3/lib/python3.12/site-packages (from datasets->fastbook) (0.3.8)\n",
      "Requirement already satisfied: tqdm>=4.66.3 in /Users/dagmarmac/miniconda3/lib/python3.12/site-packages (from datasets->fastbook) (4.66.5)\n",
      "Requirement already satisfied: xxhash in /Users/dagmarmac/miniconda3/lib/python3.12/site-packages (from datasets->fastbook) (3.5.0)\n",
      "Requirement already satisfied: multiprocess in /Users/dagmarmac/miniconda3/lib/python3.12/site-packages (from datasets->fastbook) (0.70.16)\n",
      "Requirement already satisfied: fsspec<=2024.6.1,>=2023.1.0 in /Users/dagmarmac/miniconda3/lib/python3.12/site-packages (from fsspec[http]<=2024.6.1,>=2023.1.0->datasets->fastbook) (2024.6.1)\n",
      "Requirement already satisfied: aiohttp in /Users/dagmarmac/miniconda3/lib/python3.12/site-packages (from datasets->fastbook) (3.10.5)\n",
      "Requirement already satisfied: huggingface-hub>=0.21.2 in /Users/dagmarmac/miniconda3/lib/python3.12/site-packages (from datasets->fastbook) (0.24.6)\n",
      "Requirement already satisfied: charset-normalizer<4,>=2 in /Users/dagmarmac/miniconda3/lib/python3.12/site-packages (from requests->fastbook) (2.0.4)\n",
      "Requirement already satisfied: idna<4,>=2.5 in /Users/dagmarmac/miniconda3/lib/python3.12/site-packages (from requests->fastbook) (3.7)\n",
      "Requirement already satisfied: urllib3<3,>=1.21.1 in /Users/dagmarmac/miniconda3/lib/python3.12/site-packages (from requests->fastbook) (2.1.0)\n",
      "Requirement already satisfied: certifi>=2017.4.17 in /Users/dagmarmac/miniconda3/lib/python3.12/site-packages (from requests->fastbook) (2024.7.4)\n",
      "Requirement already satisfied: python-dateutil>=2.8.2 in /Users/dagmarmac/miniconda3/lib/python3.12/site-packages (from pandas->fastbook) (2.9.0.post0)\n",
      "Requirement already satisfied: pytz>=2020.1 in /Users/dagmarmac/miniconda3/lib/python3.12/site-packages (from pandas->fastbook) (2024.1)\n",
      "Requirement already satisfied: tzdata>=2022.7 in /Users/dagmarmac/miniconda3/lib/python3.12/site-packages (from pandas->fastbook) (2023.3)\n",
      "Requirement already satisfied: regex!=2019.12.17 in /Users/dagmarmac/miniconda3/lib/python3.12/site-packages (from transformers->fastbook) (2024.7.24)\n",
      "Requirement already satisfied: safetensors>=0.4.1 in /Users/dagmarmac/miniconda3/lib/python3.12/site-packages (from transformers->fastbook) (0.4.5)\n",
      "Requirement already satisfied: tokenizers<0.20,>=0.19 in /Users/dagmarmac/miniconda3/lib/python3.12/site-packages (from transformers->fastbook) (0.19.1)\n",
      "Requirement already satisfied: aiohappyeyeballs>=2.3.0 in /Users/dagmarmac/miniconda3/lib/python3.12/site-packages (from aiohttp->datasets->fastbook) (2.4.0)\n",
      "Requirement already satisfied: aiosignal>=1.1.2 in /Users/dagmarmac/miniconda3/lib/python3.12/site-packages (from aiohttp->datasets->fastbook) (1.3.1)\n",
      "Requirement already satisfied: attrs>=17.3.0 in /Users/dagmarmac/miniconda3/lib/python3.12/site-packages (from aiohttp->datasets->fastbook) (23.2.0)\n",
      "Requirement already satisfied: frozenlist>=1.1.1 in /Users/dagmarmac/miniconda3/lib/python3.12/site-packages (from aiohttp->datasets->fastbook) (1.4.1)\n",
      "Requirement already satisfied: multidict<7.0,>=4.5 in /Users/dagmarmac/miniconda3/lib/python3.12/site-packages (from aiohttp->datasets->fastbook) (6.0.5)\n",
      "Requirement already satisfied: yarl<2.0,>=1.0 in /Users/dagmarmac/miniconda3/lib/python3.12/site-packages (from aiohttp->datasets->fastbook) (1.9.11)\n",
      "Requirement already satisfied: typing-extensions>=3.7.4.3 in /Users/dagmarmac/miniconda3/lib/python3.12/site-packages (from huggingface-hub>=0.21.2->datasets->fastbook) (4.11.0)\n",
      "Requirement already satisfied: backcall in /Users/dagmarmac/miniconda3/lib/python3.12/site-packages (from ipython>=4.0.0->ipywidgets<8->fastbook) (0.2.0)\n",
      "Requirement already satisfied: decorator in /Users/dagmarmac/miniconda3/lib/python3.12/site-packages (from ipython>=4.0.0->ipywidgets<8->fastbook) (5.1.1)\n",
      "Requirement already satisfied: jedi>=0.16 in /Users/dagmarmac/miniconda3/lib/python3.12/site-packages (from ipython>=4.0.0->ipywidgets<8->fastbook) (0.19.0)\n",
      "Requirement already satisfied: matplotlib-inline in /Users/dagmarmac/miniconda3/lib/python3.12/site-packages (from ipython>=4.0.0->ipywidgets<8->fastbook) (0.1.6)\n",
      "Requirement already satisfied: pickleshare in /Users/dagmarmac/miniconda3/lib/python3.12/site-packages (from ipython>=4.0.0->ipywidgets<8->fastbook) (0.7.5)\n",
      "Requirement already satisfied: prompt-toolkit!=3.0.37,<3.1.0,>=3.0.30 in /Users/dagmarmac/miniconda3/lib/python3.12/site-packages (from ipython>=4.0.0->ipywidgets<8->fastbook) (3.0.39)\n",
      "Requirement already satisfied: pygments>=2.4.0 in /Users/dagmarmac/miniconda3/lib/python3.12/site-packages (from ipython>=4.0.0->ipywidgets<8->fastbook) (2.15.1)\n",
      "Requirement already satisfied: stack-data in /Users/dagmarmac/miniconda3/lib/python3.12/site-packages (from ipython>=4.0.0->ipywidgets<8->fastbook) (0.6.2)\n",
      "Requirement already satisfied: pexpect>4.3 in /Users/dagmarmac/miniconda3/lib/python3.12/site-packages (from ipython>=4.0.0->ipywidgets<8->fastbook) (4.8.0)\n",
      "Requirement already satisfied: appnope in /Users/dagmarmac/miniconda3/lib/python3.12/site-packages (from ipython>=4.0.0->ipywidgets<8->fastbook) (0.1.3)\n",
      "Requirement already satisfied: six>=1.5 in /Users/dagmarmac/miniconda3/lib/python3.12/site-packages (from python-dateutil>=2.8.2->pandas->fastbook) (1.16.0)\n",
      "Requirement already satisfied: spacy-legacy<3.1.0,>=3.0.11 in /Users/dagmarmac/miniconda3/lib/python3.12/site-packages (from spacy<4->fastai>=2.6->fastbook) (3.0.12)\n",
      "Requirement already satisfied: spacy-loggers<2.0.0,>=1.0.0 in /Users/dagmarmac/miniconda3/lib/python3.12/site-packages (from spacy<4->fastai>=2.6->fastbook) (1.0.4)\n",
      "Requirement already satisfied: murmurhash<1.1.0,>=0.28.0 in /Users/dagmarmac/miniconda3/lib/python3.12/site-packages (from spacy<4->fastai>=2.6->fastbook) (1.0.7)\n",
      "Requirement already satisfied: cymem<2.1.0,>=2.0.2 in /Users/dagmarmac/miniconda3/lib/python3.12/site-packages (from spacy<4->fastai>=2.6->fastbook) (2.0.6)\n",
      "Requirement already satisfied: preshed<3.1.0,>=3.0.2 in /Users/dagmarmac/miniconda3/lib/python3.12/site-packages (from spacy<4->fastai>=2.6->fastbook) (3.0.6)\n",
      "Requirement already satisfied: thinc<8.3.0,>=8.1.8 in /Users/dagmarmac/miniconda3/lib/python3.12/site-packages (from spacy<4->fastai>=2.6->fastbook) (8.2.2)\n",
      "Requirement already satisfied: wasabi<1.2.0,>=0.9.1 in /Users/dagmarmac/miniconda3/lib/python3.12/site-packages (from spacy<4->fastai>=2.6->fastbook) (0.9.1)\n",
      "Requirement already satisfied: srsly<3.0.0,>=2.4.3 in /Users/dagmarmac/miniconda3/lib/python3.12/site-packages (from spacy<4->fastai>=2.6->fastbook) (2.4.8)\n",
      "Requirement already satisfied: catalogue<2.1.0,>=2.0.6 in /Users/dagmarmac/miniconda3/lib/python3.12/site-packages (from spacy<4->fastai>=2.6->fastbook) (2.0.10)\n",
      "Requirement already satisfied: weasel<0.4.0,>=0.1.0 in /Users/dagmarmac/miniconda3/lib/python3.12/site-packages (from spacy<4->fastai>=2.6->fastbook) (0.3.4)\n",
      "Requirement already satisfied: typer<0.10.0,>=0.3.0 in /Users/dagmarmac/miniconda3/lib/python3.12/site-packages (from spacy<4->fastai>=2.6->fastbook) (0.9.0)\n",
      "Requirement already satisfied: smart-open<7.0.0,>=5.2.1 in /Users/dagmarmac/miniconda3/lib/python3.12/site-packages (from spacy<4->fastai>=2.6->fastbook) (5.2.1)\n",
      "Requirement already satisfied: pydantic!=1.8,!=1.8.1,<3.0.0,>=1.7.4 in /Users/dagmarmac/miniconda3/lib/python3.12/site-packages (from spacy<4->fastai>=2.6->fastbook) (2.5.3)\n",
      "Requirement already satisfied: jinja2 in /Users/dagmarmac/miniconda3/lib/python3.12/site-packages (from spacy<4->fastai>=2.6->fastbook) (3.1.4)\n",
      "Requirement already satisfied: setuptools in /Users/dagmarmac/miniconda3/lib/python3.12/site-packages (from spacy<4->fastai>=2.6->fastbook) (69.5.1)\n",
      "Requirement already satisfied: langcodes<4.0.0,>=3.2.0 in /Users/dagmarmac/miniconda3/lib/python3.12/site-packages (from spacy<4->fastai>=2.6->fastbook) (3.3.0)\n",
      "Requirement already satisfied: sympy in /Users/dagmarmac/miniconda3/lib/python3.12/site-packages (from torch<2.5,>=1.10->fastai>=2.6->fastbook) (1.12)\n",
      "Requirement already satisfied: networkx in /Users/dagmarmac/miniconda3/lib/python3.12/site-packages (from torch<2.5,>=1.10->fastai>=2.6->fastbook) (3.2.1)\n",
      "Requirement already satisfied: notebook>=4.4.1 in /Users/dagmarmac/miniconda3/lib/python3.12/site-packages (from widgetsnbextension~=3.6.9->ipywidgets<8->fastbook) (7.2.1)\n",
      "Requirement already satisfied: contourpy>=1.0.1 in /Users/dagmarmac/miniconda3/lib/python3.12/site-packages (from matplotlib->fastai>=2.6->fastbook) (1.2.0)\n",
      "Requirement already satisfied: cycler>=0.10 in /Users/dagmarmac/miniconda3/lib/python3.12/site-packages (from matplotlib->fastai>=2.6->fastbook) (0.11.0)\n",
      "Requirement already satisfied: fonttools>=4.22.0 in /Users/dagmarmac/miniconda3/lib/python3.12/site-packages (from matplotlib->fastai>=2.6->fastbook) (4.51.0)\n",
      "Requirement already satisfied: kiwisolver>=1.3.1 in /Users/dagmarmac/miniconda3/lib/python3.12/site-packages (from matplotlib->fastai>=2.6->fastbook) (1.4.4)\n",
      "Requirement already satisfied: pyparsing>=2.3.1 in /Users/dagmarmac/miniconda3/lib/python3.12/site-packages (from matplotlib->fastai>=2.6->fastbook) (3.0.9)\n",
      "Requirement already satisfied: joblib>=1.2.0 in /Users/dagmarmac/miniconda3/lib/python3.12/site-packages (from scikit-learn->fastai>=2.6->fastbook) (1.4.2)\n",
      "Requirement already satisfied: threadpoolctl>=2.0.0 in /Users/dagmarmac/miniconda3/lib/python3.12/site-packages (from scikit-learn->fastai>=2.6->fastbook) (2.2.0)\n",
      "Requirement already satisfied: parso<0.9.0,>=0.8.3 in /Users/dagmarmac/miniconda3/lib/python3.12/site-packages (from jedi>=0.16->ipython>=4.0.0->ipywidgets<8->fastbook) (0.8.3)\n",
      "Requirement already satisfied: jupyter-server<3,>=2.4.0 in /Users/dagmarmac/miniconda3/lib/python3.12/site-packages (from notebook>=4.4.1->widgetsnbextension~=3.6.9->ipywidgets<8->fastbook) (2.14.2)\n",
      "Requirement already satisfied: jupyterlab-server<3,>=2.27.1 in /Users/dagmarmac/miniconda3/lib/python3.12/site-packages (from notebook>=4.4.1->widgetsnbextension~=3.6.9->ipywidgets<8->fastbook) (2.27.2)\n",
      "Requirement already satisfied: jupyterlab<4.3,>=4.2.0 in /Users/dagmarmac/miniconda3/lib/python3.12/site-packages (from notebook>=4.4.1->widgetsnbextension~=3.6.9->ipywidgets<8->fastbook) (4.2.3)\n",
      "Requirement already satisfied: notebook-shim<0.3,>=0.2 in /Users/dagmarmac/miniconda3/lib/python3.12/site-packages (from notebook>=4.4.1->widgetsnbextension~=3.6.9->ipywidgets<8->fastbook) (0.2.4)\n",
      "Requirement already satisfied: tornado>=6.2.0 in /Users/dagmarmac/miniconda3/lib/python3.12/site-packages (from notebook>=4.4.1->widgetsnbextension~=3.6.9->ipywidgets<8->fastbook) (6.4.1)\n",
      "Requirement already satisfied: ptyprocess>=0.5 in /Users/dagmarmac/miniconda3/lib/python3.12/site-packages (from pexpect>4.3->ipython>=4.0.0->ipywidgets<8->fastbook) (0.7.0)\n",
      "Requirement already satisfied: wcwidth in /Users/dagmarmac/miniconda3/lib/python3.12/site-packages (from prompt-toolkit!=3.0.37,<3.1.0,>=3.0.30->ipython>=4.0.0->ipywidgets<8->fastbook) (0.2.6)\n",
      "Requirement already satisfied: annotated-types>=0.4.0 in /Users/dagmarmac/miniconda3/lib/python3.12/site-packages (from pydantic!=1.8,!=1.8.1,<3.0.0,>=1.7.4->spacy<4->fastai>=2.6->fastbook) (0.6.0)\n",
      "Requirement already satisfied: pydantic-core==2.14.6 in /Users/dagmarmac/miniconda3/lib/python3.12/site-packages (from pydantic!=1.8,!=1.8.1,<3.0.0,>=1.7.4->spacy<4->fastai>=2.6->fastbook) (2.14.6)\n",
      "Requirement already satisfied: blis<0.8.0,>=0.7.8 in /Users/dagmarmac/miniconda3/lib/python3.12/site-packages (from thinc<8.3.0,>=8.1.8->spacy<4->fastai>=2.6->fastbook) (0.7.11)\n",
      "Requirement already satisfied: confection<1.0.0,>=0.0.1 in /Users/dagmarmac/miniconda3/lib/python3.12/site-packages (from thinc<8.3.0,>=8.1.8->spacy<4->fastai>=2.6->fastbook) (0.1.4)\n",
      "Requirement already satisfied: click<9.0.0,>=7.1.1 in /Users/dagmarmac/miniconda3/lib/python3.12/site-packages (from typer<0.10.0,>=0.3.0->spacy<4->fastai>=2.6->fastbook) (8.1.7)\n",
      "Requirement already satisfied: cloudpathlib<0.17.0,>=0.7.0 in /Users/dagmarmac/miniconda3/lib/python3.12/site-packages (from weasel<0.4.0,>=0.1.0->spacy<4->fastai>=2.6->fastbook) (0.16.0)\n",
      "Requirement already satisfied: MarkupSafe>=2.0 in /Users/dagmarmac/miniconda3/lib/python3.12/site-packages (from jinja2->spacy<4->fastai>=2.6->fastbook) (2.1.3)\n",
      "Requirement already satisfied: executing>=1.2.0 in /Users/dagmarmac/miniconda3/lib/python3.12/site-packages (from stack-data->ipython>=4.0.0->ipywidgets<8->fastbook) (1.2.0)\n",
      "Requirement already satisfied: asttokens>=2.1.0 in /Users/dagmarmac/miniconda3/lib/python3.12/site-packages (from stack-data->ipython>=4.0.0->ipywidgets<8->fastbook) (2.4.0)\n",
      "Requirement already satisfied: pure-eval in /Users/dagmarmac/miniconda3/lib/python3.12/site-packages (from stack-data->ipython>=4.0.0->ipywidgets<8->fastbook) (0.2.2)\n",
      "Requirement already satisfied: mpmath>=0.19 in /Users/dagmarmac/miniconda3/lib/python3.12/site-packages (from sympy->torch<2.5,>=1.10->fastai>=2.6->fastbook) (1.3.0)\n",
      "Requirement already satisfied: anyio>=3.1.0 in /Users/dagmarmac/miniconda3/lib/python3.12/site-packages (from jupyter-server<3,>=2.4.0->notebook>=4.4.1->widgetsnbextension~=3.6.9->ipywidgets<8->fastbook) (4.4.0)\n",
      "Requirement already satisfied: argon2-cffi>=21.1 in /Users/dagmarmac/miniconda3/lib/python3.12/site-packages (from jupyter-server<3,>=2.4.0->notebook>=4.4.1->widgetsnbextension~=3.6.9->ipywidgets<8->fastbook) (23.1.0)\n",
      "Requirement already satisfied: jupyter-client>=7.4.4 in /Users/dagmarmac/miniconda3/lib/python3.12/site-packages (from jupyter-server<3,>=2.4.0->notebook>=4.4.1->widgetsnbextension~=3.6.9->ipywidgets<8->fastbook) (8.6.2)\n",
      "Requirement already satisfied: jupyter-core!=5.0.*,>=4.12 in /Users/dagmarmac/miniconda3/lib/python3.12/site-packages (from jupyter-server<3,>=2.4.0->notebook>=4.4.1->widgetsnbextension~=3.6.9->ipywidgets<8->fastbook) (5.7.2)\n",
      "Requirement already satisfied: jupyter-events>=0.9.0 in /Users/dagmarmac/miniconda3/lib/python3.12/site-packages (from jupyter-server<3,>=2.4.0->notebook>=4.4.1->widgetsnbextension~=3.6.9->ipywidgets<8->fastbook) (0.10.0)\n",
      "Requirement already satisfied: jupyter-server-terminals>=0.4.4 in /Users/dagmarmac/miniconda3/lib/python3.12/site-packages (from jupyter-server<3,>=2.4.0->notebook>=4.4.1->widgetsnbextension~=3.6.9->ipywidgets<8->fastbook) (0.5.3)\n",
      "Requirement already satisfied: nbconvert>=6.4.4 in /Users/dagmarmac/miniconda3/lib/python3.12/site-packages (from jupyter-server<3,>=2.4.0->notebook>=4.4.1->widgetsnbextension~=3.6.9->ipywidgets<8->fastbook) (7.16.4)\n",
      "Requirement already satisfied: nbformat>=5.3.0 in /Users/dagmarmac/miniconda3/lib/python3.12/site-packages (from jupyter-server<3,>=2.4.0->notebook>=4.4.1->widgetsnbextension~=3.6.9->ipywidgets<8->fastbook) (5.10.4)\n",
      "Requirement already satisfied: overrides>=5.0 in /Users/dagmarmac/miniconda3/lib/python3.12/site-packages (from jupyter-server<3,>=2.4.0->notebook>=4.4.1->widgetsnbextension~=3.6.9->ipywidgets<8->fastbook) (7.7.0)\n",
      "Requirement already satisfied: prometheus-client>=0.9 in /Users/dagmarmac/miniconda3/lib/python3.12/site-packages (from jupyter-server<3,>=2.4.0->notebook>=4.4.1->widgetsnbextension~=3.6.9->ipywidgets<8->fastbook) (0.20.0)\n",
      "Requirement already satisfied: pyzmq>=24 in /Users/dagmarmac/miniconda3/lib/python3.12/site-packages (from jupyter-server<3,>=2.4.0->notebook>=4.4.1->widgetsnbextension~=3.6.9->ipywidgets<8->fastbook) (25.1.1)\n",
      "Requirement already satisfied: send2trash>=1.8.2 in /Users/dagmarmac/miniconda3/lib/python3.12/site-packages (from jupyter-server<3,>=2.4.0->notebook>=4.4.1->widgetsnbextension~=3.6.9->ipywidgets<8->fastbook) (1.8.3)\n",
      "Requirement already satisfied: terminado>=0.8.3 in /Users/dagmarmac/miniconda3/lib/python3.12/site-packages (from jupyter-server<3,>=2.4.0->notebook>=4.4.1->widgetsnbextension~=3.6.9->ipywidgets<8->fastbook) (0.18.1)\n",
      "Requirement already satisfied: websocket-client>=1.7 in /Users/dagmarmac/miniconda3/lib/python3.12/site-packages (from jupyter-server<3,>=2.4.0->notebook>=4.4.1->widgetsnbextension~=3.6.9->ipywidgets<8->fastbook) (1.8.0)\n",
      "Requirement already satisfied: async-lru>=1.0.0 in /Users/dagmarmac/miniconda3/lib/python3.12/site-packages (from jupyterlab<4.3,>=4.2.0->notebook>=4.4.1->widgetsnbextension~=3.6.9->ipywidgets<8->fastbook) (2.0.4)\n",
      "Requirement already satisfied: httpx>=0.25.0 in /Users/dagmarmac/miniconda3/lib/python3.12/site-packages (from jupyterlab<4.3,>=4.2.0->notebook>=4.4.1->widgetsnbextension~=3.6.9->ipywidgets<8->fastbook) (0.27.0)\n",
      "Requirement already satisfied: ipykernel>=6.5.0 in /Users/dagmarmac/miniconda3/lib/python3.12/site-packages (from jupyterlab<4.3,>=4.2.0->notebook>=4.4.1->widgetsnbextension~=3.6.9->ipywidgets<8->fastbook) (6.29.4)\n",
      "Requirement already satisfied: jupyter-lsp>=2.0.0 in /Users/dagmarmac/miniconda3/lib/python3.12/site-packages (from jupyterlab<4.3,>=4.2.0->notebook>=4.4.1->widgetsnbextension~=3.6.9->ipywidgets<8->fastbook) (2.2.5)\n",
      "Requirement already satisfied: babel>=2.10 in /Users/dagmarmac/miniconda3/lib/python3.12/site-packages (from jupyterlab-server<3,>=2.27.1->notebook>=4.4.1->widgetsnbextension~=3.6.9->ipywidgets<8->fastbook) (2.14.0)\n",
      "Requirement already satisfied: json5>=0.9.0 in /Users/dagmarmac/miniconda3/lib/python3.12/site-packages (from jupyterlab-server<3,>=2.27.1->notebook>=4.4.1->widgetsnbextension~=3.6.9->ipywidgets<8->fastbook) (0.9.25)\n",
      "Requirement already satisfied: jsonschema>=4.18.0 in /Users/dagmarmac/miniconda3/lib/python3.12/site-packages (from jupyterlab-server<3,>=2.27.1->notebook>=4.4.1->widgetsnbextension~=3.6.9->ipywidgets<8->fastbook) (4.23.0)\n",
      "Requirement already satisfied: sniffio>=1.1 in /Users/dagmarmac/miniconda3/lib/python3.12/site-packages (from anyio>=3.1.0->jupyter-server<3,>=2.4.0->notebook>=4.4.1->widgetsnbextension~=3.6.9->ipywidgets<8->fastbook) (1.3.1)\n",
      "Requirement already satisfied: argon2-cffi-bindings in /Users/dagmarmac/miniconda3/lib/python3.12/site-packages (from argon2-cffi>=21.1->jupyter-server<3,>=2.4.0->notebook>=4.4.1->widgetsnbextension~=3.6.9->ipywidgets<8->fastbook) (21.2.0)\n",
      "Requirement already satisfied: httpcore==1.* in /Users/dagmarmac/miniconda3/lib/python3.12/site-packages (from httpx>=0.25.0->jupyterlab<4.3,>=4.2.0->notebook>=4.4.1->widgetsnbextension~=3.6.9->ipywidgets<8->fastbook) (1.0.5)\n",
      "Requirement already satisfied: h11<0.15,>=0.13 in /Users/dagmarmac/miniconda3/lib/python3.12/site-packages (from httpcore==1.*->httpx>=0.25.0->jupyterlab<4.3,>=4.2.0->notebook>=4.4.1->widgetsnbextension~=3.6.9->ipywidgets<8->fastbook) (0.14.0)\n",
      "Requirement already satisfied: debugpy>=1.6.5 in /Users/dagmarmac/miniconda3/lib/python3.12/site-packages (from ipykernel>=6.5.0->jupyterlab<4.3,>=4.2.0->notebook>=4.4.1->widgetsnbextension~=3.6.9->ipywidgets<8->fastbook) (1.6.7)\n",
      "Requirement already satisfied: nest-asyncio in /Users/dagmarmac/miniconda3/lib/python3.12/site-packages (from ipykernel>=6.5.0->jupyterlab<4.3,>=4.2.0->notebook>=4.4.1->widgetsnbextension~=3.6.9->ipywidgets<8->fastbook) (1.6.0)\n",
      "Requirement already satisfied: psutil in /Users/dagmarmac/miniconda3/lib/python3.12/site-packages (from ipykernel>=6.5.0->jupyterlab<4.3,>=4.2.0->notebook>=4.4.1->widgetsnbextension~=3.6.9->ipywidgets<8->fastbook) (5.9.8)\n",
      "Requirement already satisfied: jsonschema-specifications>=2023.03.6 in /Users/dagmarmac/miniconda3/lib/python3.12/site-packages (from jsonschema>=4.18.0->jupyterlab-server<3,>=2.27.1->notebook>=4.4.1->widgetsnbextension~=3.6.9->ipywidgets<8->fastbook) (2023.12.1)\n",
      "Requirement already satisfied: referencing>=0.28.4 in /Users/dagmarmac/miniconda3/lib/python3.12/site-packages (from jsonschema>=4.18.0->jupyterlab-server<3,>=2.27.1->notebook>=4.4.1->widgetsnbextension~=3.6.9->ipywidgets<8->fastbook) (0.35.1)\n",
      "Requirement already satisfied: rpds-py>=0.7.1 in /Users/dagmarmac/miniconda3/lib/python3.12/site-packages (from jsonschema>=4.18.0->jupyterlab-server<3,>=2.27.1->notebook>=4.4.1->widgetsnbextension~=3.6.9->ipywidgets<8->fastbook) (0.19.0)\n",
      "Requirement already satisfied: platformdirs>=2.5 in /Users/dagmarmac/miniconda3/lib/python3.12/site-packages (from jupyter-core!=5.0.*,>=4.12->jupyter-server<3,>=2.4.0->notebook>=4.4.1->widgetsnbextension~=3.6.9->ipywidgets<8->fastbook) (3.10.0)\n",
      "Requirement already satisfied: python-json-logger>=2.0.4 in /Users/dagmarmac/miniconda3/lib/python3.12/site-packages (from jupyter-events>=0.9.0->jupyter-server<3,>=2.4.0->notebook>=4.4.1->widgetsnbextension~=3.6.9->ipywidgets<8->fastbook) (2.0.7)\n",
      "Requirement already satisfied: rfc3339-validator in /Users/dagmarmac/miniconda3/lib/python3.12/site-packages (from jupyter-events>=0.9.0->jupyter-server<3,>=2.4.0->notebook>=4.4.1->widgetsnbextension~=3.6.9->ipywidgets<8->fastbook) (0.1.4)\n",
      "Requirement already satisfied: rfc3986-validator>=0.1.1 in /Users/dagmarmac/miniconda3/lib/python3.12/site-packages (from jupyter-events>=0.9.0->jupyter-server<3,>=2.4.0->notebook>=4.4.1->widgetsnbextension~=3.6.9->ipywidgets<8->fastbook) (0.1.1)\n",
      "Requirement already satisfied: beautifulsoup4 in /Users/dagmarmac/miniconda3/lib/python3.12/site-packages (from nbconvert>=6.4.4->jupyter-server<3,>=2.4.0->notebook>=4.4.1->widgetsnbextension~=3.6.9->ipywidgets<8->fastbook) (4.12.3)\n",
      "Requirement already satisfied: bleach!=5.0.0 in /Users/dagmarmac/miniconda3/lib/python3.12/site-packages (from nbconvert>=6.4.4->jupyter-server<3,>=2.4.0->notebook>=4.4.1->widgetsnbextension~=3.6.9->ipywidgets<8->fastbook) (6.1.0)\n",
      "Requirement already satisfied: defusedxml in /Users/dagmarmac/miniconda3/lib/python3.12/site-packages (from nbconvert>=6.4.4->jupyter-server<3,>=2.4.0->notebook>=4.4.1->widgetsnbextension~=3.6.9->ipywidgets<8->fastbook) (0.7.1)\n",
      "Requirement already satisfied: jupyterlab-pygments in /Users/dagmarmac/miniconda3/lib/python3.12/site-packages (from nbconvert>=6.4.4->jupyter-server<3,>=2.4.0->notebook>=4.4.1->widgetsnbextension~=3.6.9->ipywidgets<8->fastbook) (0.3.0)\n",
      "Requirement already satisfied: mistune<4,>=2.0.3 in /Users/dagmarmac/miniconda3/lib/python3.12/site-packages (from nbconvert>=6.4.4->jupyter-server<3,>=2.4.0->notebook>=4.4.1->widgetsnbextension~=3.6.9->ipywidgets<8->fastbook) (3.0.2)\n",
      "Requirement already satisfied: nbclient>=0.5.0 in /Users/dagmarmac/miniconda3/lib/python3.12/site-packages (from nbconvert>=6.4.4->jupyter-server<3,>=2.4.0->notebook>=4.4.1->widgetsnbextension~=3.6.9->ipywidgets<8->fastbook) (0.10.0)\n",
      "Requirement already satisfied: pandocfilters>=1.4.1 in /Users/dagmarmac/miniconda3/lib/python3.12/site-packages (from nbconvert>=6.4.4->jupyter-server<3,>=2.4.0->notebook>=4.4.1->widgetsnbextension~=3.6.9->ipywidgets<8->fastbook) (1.5.0)\n",
      "Requirement already satisfied: tinycss2 in /Users/dagmarmac/miniconda3/lib/python3.12/site-packages (from nbconvert>=6.4.4->jupyter-server<3,>=2.4.0->notebook>=4.4.1->widgetsnbextension~=3.6.9->ipywidgets<8->fastbook) (1.3.0)\n",
      "Requirement already satisfied: fastjsonschema>=2.15 in /Users/dagmarmac/miniconda3/lib/python3.12/site-packages (from nbformat>=5.3.0->jupyter-server<3,>=2.4.0->notebook>=4.4.1->widgetsnbextension~=3.6.9->ipywidgets<8->fastbook) (2.20.0)\n",
      "Requirement already satisfied: webencodings in /Users/dagmarmac/miniconda3/lib/python3.12/site-packages (from bleach!=5.0.0->nbconvert>=6.4.4->jupyter-server<3,>=2.4.0->notebook>=4.4.1->widgetsnbextension~=3.6.9->ipywidgets<8->fastbook) (0.5.1)\n",
      "Requirement already satisfied: fqdn in /Users/dagmarmac/miniconda3/lib/python3.12/site-packages (from jsonschema[format-nongpl]>=4.18.0->jupyter-events>=0.9.0->jupyter-server<3,>=2.4.0->notebook>=4.4.1->widgetsnbextension~=3.6.9->ipywidgets<8->fastbook) (1.5.1)\n",
      "Requirement already satisfied: isoduration in /Users/dagmarmac/miniconda3/lib/python3.12/site-packages (from jsonschema[format-nongpl]>=4.18.0->jupyter-events>=0.9.0->jupyter-server<3,>=2.4.0->notebook>=4.4.1->widgetsnbextension~=3.6.9->ipywidgets<8->fastbook) (20.11.0)\n",
      "Requirement already satisfied: jsonpointer>1.13 in /Users/dagmarmac/miniconda3/lib/python3.12/site-packages (from jsonschema[format-nongpl]>=4.18.0->jupyter-events>=0.9.0->jupyter-server<3,>=2.4.0->notebook>=4.4.1->widgetsnbextension~=3.6.9->ipywidgets<8->fastbook) (2.1)\n",
      "Requirement already satisfied: uri-template in /Users/dagmarmac/miniconda3/lib/python3.12/site-packages (from jsonschema[format-nongpl]>=4.18.0->jupyter-events>=0.9.0->jupyter-server<3,>=2.4.0->notebook>=4.4.1->widgetsnbextension~=3.6.9->ipywidgets<8->fastbook) (1.3.0)\n",
      "Requirement already satisfied: webcolors>=24.6.0 in /Users/dagmarmac/miniconda3/lib/python3.12/site-packages (from jsonschema[format-nongpl]>=4.18.0->jupyter-events>=0.9.0->jupyter-server<3,>=2.4.0->notebook>=4.4.1->widgetsnbextension~=3.6.9->ipywidgets<8->fastbook) (24.6.0)\n",
      "Requirement already satisfied: cffi>=1.0.1 in /Users/dagmarmac/miniconda3/lib/python3.12/site-packages (from argon2-cffi-bindings->argon2-cffi>=21.1->jupyter-server<3,>=2.4.0->notebook>=4.4.1->widgetsnbextension~=3.6.9->ipywidgets<8->fastbook) (1.16.0)\n",
      "Requirement already satisfied: soupsieve>1.2 in /Users/dagmarmac/miniconda3/lib/python3.12/site-packages (from beautifulsoup4->nbconvert>=6.4.4->jupyter-server<3,>=2.4.0->notebook>=4.4.1->widgetsnbextension~=3.6.9->ipywidgets<8->fastbook) (2.5)\n",
      "Requirement already satisfied: pycparser in /Users/dagmarmac/miniconda3/lib/python3.12/site-packages (from cffi>=1.0.1->argon2-cffi-bindings->argon2-cffi>=21.1->jupyter-server<3,>=2.4.0->notebook>=4.4.1->widgetsnbextension~=3.6.9->ipywidgets<8->fastbook) (2.21)\n",
      "Requirement already satisfied: arrow>=0.15.0 in /Users/dagmarmac/miniconda3/lib/python3.12/site-packages (from isoduration->jsonschema[format-nongpl]>=4.18.0->jupyter-events>=0.9.0->jupyter-server<3,>=2.4.0->notebook>=4.4.1->widgetsnbextension~=3.6.9->ipywidgets<8->fastbook) (1.3.0)\n",
      "Requirement already satisfied: types-python-dateutil>=2.8.10 in /Users/dagmarmac/miniconda3/lib/python3.12/site-packages (from arrow>=0.15.0->isoduration->jsonschema[format-nongpl]>=4.18.0->jupyter-events>=0.9.0->jupyter-server<3,>=2.4.0->notebook>=4.4.1->widgetsnbextension~=3.6.9->ipywidgets<8->fastbook) (2.9.0.20240316)\n"
     ]
    }
   ],
   "source": [
    "#hide\n",
    "!pip install fastai\n",
    "!pip install fastbook\n",
    "import fastbook\n",
    "fastbook.setup_book()"
   ]
  },
  {
   "cell_type": "code",
   "execution_count": 2,
   "id": "ecf797f5-e115-416d-9373-27cb541303ad",
   "metadata": {},
   "outputs": [
    {
     "data": {
      "text/plain": [
       "(#2) [Path('/Users/dagmarmac/.fastai/data/mnist_png/training'),Path('/Users/dagmarmac/.fastai/data/mnist_png/testing')]"
      ]
     },
     "execution_count": 2,
     "metadata": {},
     "output_type": "execute_result"
    }
   ],
   "source": [
    "from fastai.vision.all import *\n",
    "\n",
    "path = untar_data(URLs.MNIST)\n",
    "path.ls()"
   ]
  },
  {
   "cell_type": "code",
   "execution_count": 3,
   "id": "db9d428f-3855-4d00-a92c-00306e42e45c",
   "metadata": {},
   "outputs": [],
   "source": [
    "# Define the DataBlock\n",
    "mnist_block = DataBlock(\n",
    "    blocks=(ImageBlock(cls=PILImageBW), CategoryBlock),    # Define the blocks: ImageBlock for images and CategoryBlock for labels\n",
    "    get_items=get_image_files,             # Function to get the list of image files\n",
    "    splitter=GrandparentSplitter(train_name='training', valid_name='testing'),  # Split data into training and validation\n",
    "    get_y=parent_label,                    # Get labels from the parent folder name\n",
    ")\n"
   ]
  },
  {
   "cell_type": "code",
   "execution_count": 4,
   "id": "9b81b521-13e8-49ad-8859-342bc1705354",
   "metadata": {},
   "outputs": [
    {
     "data": {
      "image/png": "[encoded data removed]",
      "text/plain": [
       "<Figure size 700x600 with 9 Axes>"
      ]
     },
     "metadata": {},
     "output_type": "display_data"
    }
   ],
   "source": [
    "# Create DataLoaders\n",
    "dls = mnist_block.dataloaders(path, bs=64)\n",
    "\n",
    "# Example: Show some images\n",
    "dls.show_batch(max_n=9, figsize=(7, 6))"
   ]
  },
  {
   "cell_type": "markdown",
   "id": "88d981f3-f5d6-42f9-bcf4-1ab859e58e1b",
   "metadata": {},
   "source": [
    "### Define model with resnet18 known arhitecture"
   ]
  },
  {
   "cell_type": "markdown",
   "id": "e55d2f45-db94-4f2d-a7e3-75b0041a3ac4",
   "metadata": {},
   "source": [
    "### Create Learner"
   ]
  },
  {
   "cell_type": "code",
   "execution_count": 5,
   "id": "2c13b811-1c7d-4820-996d-ad6612907af1",
   "metadata": {},
   "outputs": [
    {
     "name": "stdout",
     "output_type": "stream",
     "text": [
      "Requirement already satisfied: torch in /Users/dagmarmac/miniconda3/lib/python3.12/site-packages (2.4.1)\n",
      "Requirement already satisfied: torchvision in /Users/dagmarmac/miniconda3/lib/python3.12/site-packages (0.19.1)\n",
      "Requirement already satisfied: fastai in /Users/dagmarmac/miniconda3/lib/python3.12/site-packages (2.7.17)\n",
      "Requirement already satisfied: filelock in /Users/dagmarmac/miniconda3/lib/python3.12/site-packages (from torch) (3.13.1)\n",
      "Requirement already satisfied: typing-extensions>=4.8.0 in /Users/dagmarmac/miniconda3/lib/python3.12/site-packages (from torch) (4.11.0)\n",
      "Requirement already satisfied: sympy in /Users/dagmarmac/miniconda3/lib/python3.12/site-packages (from torch) (1.12)\n",
      "Requirement already satisfied: networkx in /Users/dagmarmac/miniconda3/lib/python3.12/site-packages (from torch) (3.2.1)\n",
      "Requirement already satisfied: jinja2 in /Users/dagmarmac/miniconda3/lib/python3.12/site-packages (from torch) (3.1.4)\n",
      "Requirement already satisfied: fsspec in /Users/dagmarmac/miniconda3/lib/python3.12/site-packages (from torch) (2024.6.1)\n",
      "Requirement already satisfied: setuptools in /Users/dagmarmac/miniconda3/lib/python3.12/site-packages (from torch) (69.5.1)\n",
      "Requirement already satisfied: numpy in /Users/dagmarmac/miniconda3/lib/python3.12/site-packages (from torchvision) (1.26.4)\n",
      "Requirement already satisfied: pillow!=8.3.*,>=5.3.0 in /Users/dagmarmac/miniconda3/lib/python3.12/site-packages (from torchvision) (10.3.0)\n",
      "Requirement already satisfied: pip in /Users/dagmarmac/miniconda3/lib/python3.12/site-packages (from fastai) (24.0)\n",
      "Requirement already satisfied: packaging in /Users/dagmarmac/miniconda3/lib/python3.12/site-packages (from fastai) (23.2)\n",
      "Requirement already satisfied: fastdownload<2,>=0.0.5 in /Users/dagmarmac/miniconda3/lib/python3.12/site-packages (from fastai) (0.0.7)\n",
      "Requirement already satisfied: fastcore<1.8,>=1.5.29 in /Users/dagmarmac/miniconda3/lib/python3.12/site-packages (from fastai) (1.5.48)\n",
      "Requirement already satisfied: matplotlib in /Users/dagmarmac/miniconda3/lib/python3.12/site-packages (from fastai) (3.8.4)\n",
      "Requirement already satisfied: pandas in /Users/dagmarmac/miniconda3/lib/python3.12/site-packages (from fastai) (2.2.2)\n",
      "Requirement already satisfied: requests in /Users/dagmarmac/miniconda3/lib/python3.12/site-packages (from fastai) (2.32.3)\n",
      "Requirement already satisfied: pyyaml in /Users/dagmarmac/miniconda3/lib/python3.12/site-packages (from fastai) (6.0.1)\n",
      "Requirement already satisfied: fastprogress>=0.2.4 in /Users/dagmarmac/miniconda3/lib/python3.12/site-packages (from fastai) (1.0.3)\n",
      "Requirement already satisfied: scikit-learn in /Users/dagmarmac/miniconda3/lib/python3.12/site-packages (from fastai) (1.4.2)\n",
      "Requirement already satisfied: scipy in /Users/dagmarmac/miniconda3/lib/python3.12/site-packages (from fastai) (1.13.1)\n",
      "Requirement already satisfied: spacy<4 in /Users/dagmarmac/miniconda3/lib/python3.12/site-packages (from fastai) (3.7.2)\n",
      "Requirement already satisfied: spacy-legacy<3.1.0,>=3.0.11 in /Users/dagmarmac/miniconda3/lib/python3.12/site-packages (from spacy<4->fastai) (3.0.12)\n",
      "Requirement already satisfied: spacy-loggers<2.0.0,>=1.0.0 in /Users/dagmarmac/miniconda3/lib/python3.12/site-packages (from spacy<4->fastai) (1.0.4)\n",
      "Requirement already satisfied: murmurhash<1.1.0,>=0.28.0 in /Users/dagmarmac/miniconda3/lib/python3.12/site-packages (from spacy<4->fastai) (1.0.7)\n",
      "Requirement already satisfied: cymem<2.1.0,>=2.0.2 in /Users/dagmarmac/miniconda3/lib/python3.12/site-packages (from spacy<4->fastai) (2.0.6)\n",
      "Requirement already satisfied: preshed<3.1.0,>=3.0.2 in /Users/dagmarmac/miniconda3/lib/python3.12/site-packages (from spacy<4->fastai) (3.0.6)\n",
      "Requirement already satisfied: thinc<8.3.0,>=8.1.8 in /Users/dagmarmac/miniconda3/lib/python3.12/site-packages (from spacy<4->fastai) (8.2.2)\n",
      "Requirement already satisfied: wasabi<1.2.0,>=0.9.1 in /Users/dagmarmac/miniconda3/lib/python3.12/site-packages (from spacy<4->fastai) (0.9.1)\n",
      "Requirement already satisfied: srsly<3.0.0,>=2.4.3 in /Users/dagmarmac/miniconda3/lib/python3.12/site-packages (from spacy<4->fastai) (2.4.8)\n",
      "Requirement already satisfied: catalogue<2.1.0,>=2.0.6 in /Users/dagmarmac/miniconda3/lib/python3.12/site-packages (from spacy<4->fastai) (2.0.10)\n",
      "Requirement already satisfied: weasel<0.4.0,>=0.1.0 in /Users/dagmarmac/miniconda3/lib/python3.12/site-packages (from spacy<4->fastai) (0.3.4)\n",
      "Requirement already satisfied: typer<0.10.0,>=0.3.0 in /Users/dagmarmac/miniconda3/lib/python3.12/site-packages (from spacy<4->fastai) (0.9.0)\n",
      "Requirement already satisfied: smart-open<7.0.0,>=5.2.1 in /Users/dagmarmac/miniconda3/lib/python3.12/site-packages (from spacy<4->fastai) (5.2.1)\n",
      "Requirement already satisfied: tqdm<5.0.0,>=4.38.0 in /Users/dagmarmac/miniconda3/lib/python3.12/site-packages (from spacy<4->fastai) (4.66.5)\n",
      "Requirement already satisfied: pydantic!=1.8,!=1.8.1,<3.0.0,>=1.7.4 in /Users/dagmarmac/miniconda3/lib/python3.12/site-packages (from spacy<4->fastai) (2.5.3)\n",
      "Requirement already satisfied: langcodes<4.0.0,>=3.2.0 in /Users/dagmarmac/miniconda3/lib/python3.12/site-packages (from spacy<4->fastai) (3.3.0)\n",
      "Requirement already satisfied: charset-normalizer<4,>=2 in /Users/dagmarmac/miniconda3/lib/python3.12/site-packages (from requests->fastai) (2.0.4)\n",
      "Requirement already satisfied: idna<4,>=2.5 in /Users/dagmarmac/miniconda3/lib/python3.12/site-packages (from requests->fastai) (3.7)\n",
      "Requirement already satisfied: urllib3<3,>=1.21.1 in /Users/dagmarmac/miniconda3/lib/python3.12/site-packages (from requests->fastai) (2.1.0)\n",
      "Requirement already satisfied: certifi>=2017.4.17 in /Users/dagmarmac/miniconda3/lib/python3.12/site-packages (from requests->fastai) (2024.7.4)\n",
      "Requirement already satisfied: MarkupSafe>=2.0 in /Users/dagmarmac/miniconda3/lib/python3.12/site-packages (from jinja2->torch) (2.1.3)\n",
      "Requirement already satisfied: contourpy>=1.0.1 in /Users/dagmarmac/miniconda3/lib/python3.12/site-packages (from matplotlib->fastai) (1.2.0)\n",
      "Requirement already satisfied: cycler>=0.10 in /Users/dagmarmac/miniconda3/lib/python3.12/site-packages (from matplotlib->fastai) (0.11.0)\n",
      "Requirement already satisfied: fonttools>=4.22.0 in /Users/dagmarmac/miniconda3/lib/python3.12/site-packages (from matplotlib->fastai) (4.51.0)\n",
      "Requirement already satisfied: kiwisolver>=1.3.1 in /Users/dagmarmac/miniconda3/lib/python3.12/site-packages (from matplotlib->fastai) (1.4.4)\n",
      "Requirement already satisfied: pyparsing>=2.3.1 in /Users/dagmarmac/miniconda3/lib/python3.12/site-packages (from matplotlib->fastai) (3.0.9)\n",
      "Requirement already satisfied: python-dateutil>=2.7 in /Users/dagmarmac/miniconda3/lib/python3.12/site-packages (from matplotlib->fastai) (2.9.0.post0)\n",
      "Requirement already satisfied: pytz>=2020.1 in /Users/dagmarmac/miniconda3/lib/python3.12/site-packages (from pandas->fastai) (2024.1)\n",
      "Requirement already satisfied: tzdata>=2022.7 in /Users/dagmarmac/miniconda3/lib/python3.12/site-packages (from pandas->fastai) (2023.3)\n",
      "Requirement already satisfied: joblib>=1.2.0 in /Users/dagmarmac/miniconda3/lib/python3.12/site-packages (from scikit-learn->fastai) (1.4.2)\n",
      "Requirement already satisfied: threadpoolctl>=2.0.0 in /Users/dagmarmac/miniconda3/lib/python3.12/site-packages (from scikit-learn->fastai) (2.2.0)\n",
      "Requirement already satisfied: mpmath>=0.19 in /Users/dagmarmac/miniconda3/lib/python3.12/site-packages (from sympy->torch) (1.3.0)\n",
      "Requirement already satisfied: annotated-types>=0.4.0 in /Users/dagmarmac/miniconda3/lib/python3.12/site-packages (from pydantic!=1.8,!=1.8.1,<3.0.0,>=1.7.4->spacy<4->fastai) (0.6.0)\n",
      "Requirement already satisfied: pydantic-core==2.14.6 in /Users/dagmarmac/miniconda3/lib/python3.12/site-packages (from pydantic!=1.8,!=1.8.1,<3.0.0,>=1.7.4->spacy<4->fastai) (2.14.6)\n",
      "Requirement already satisfied: six>=1.5 in /Users/dagmarmac/miniconda3/lib/python3.12/site-packages (from python-dateutil>=2.7->matplotlib->fastai) (1.16.0)\n",
      "Requirement already satisfied: blis<0.8.0,>=0.7.8 in /Users/dagmarmac/miniconda3/lib/python3.12/site-packages (from thinc<8.3.0,>=8.1.8->spacy<4->fastai) (0.7.11)\n",
      "Requirement already satisfied: confection<1.0.0,>=0.0.1 in /Users/dagmarmac/miniconda3/lib/python3.12/site-packages (from thinc<8.3.0,>=8.1.8->spacy<4->fastai) (0.1.4)\n",
      "Requirement already satisfied: click<9.0.0,>=7.1.1 in /Users/dagmarmac/miniconda3/lib/python3.12/site-packages (from typer<0.10.0,>=0.3.0->spacy<4->fastai) (8.1.7)\n",
      "Requirement already satisfied: cloudpathlib<0.17.0,>=0.7.0 in /Users/dagmarmac/miniconda3/lib/python3.12/site-packages (from weasel<0.4.0,>=0.1.0->spacy<4->fastai) (0.16.0)\n",
      "Note: you may need to restart the kernel to use updated packages.\n"
     ]
    }
   ],
   "source": [
    "pip install --upgrade torch torchvision fastai"
   ]
  },
  {
   "cell_type": "code",
   "execution_count": 6,
   "id": "7111367c-6aed-4966-a190-cbaffef8ba5f",
   "metadata": {},
   "outputs": [],
   "source": [
    "device = torch.device(\"mps\" if torch.backends.mps.is_available() else \"cuda\" if torch.cuda.is_available() else \"cpu\")\n"
   ]
  },
  {
   "cell_type": "code",
   "execution_count": 7,
   "id": "fd944a41-9bc8-4489-a70e-ca997418732a",
   "metadata": {},
   "outputs": [],
   "source": [
    "simple_net = nn.Sequential(\n",
    "    nn.Flatten(),\n",
    "    nn.Linear(28*28, 30), # input 28*28\n",
    "    nn.ReLU(),\n",
    "    nn.Dropout(0.2),\n",
    "    nn.Linear(30, 30),\n",
    "    nn.ReLU(),\n",
    "    nn.Dropout(0.2),\n",
    "    nn.Linear(30, 10),  # output 10 categories\n",
    ")"
   ]
  },
  {
   "cell_type": "code",
   "execution_count": 8,
   "id": "c0bd8cb5-ecf8-48dd-a741-9fecde487f5b",
   "metadata": {},
   "outputs": [
    {
     "data": {
      "text/plain": [
       "<function fastai.optimizer.SGD(params: 'Tensor | Iterable', lr: 'float | slice', mom: 'float' = 0.0, wd: 'Real' = 0.0, decouple_wd: 'bool' = True) -> 'Optimizer'>"
      ]
     },
     "execution_count": 8,
     "metadata": {},
     "output_type": "execute_result"
    }
   ],
   "source": [
    "SGD  # fastai has opt function defined"
   ]
  },
  {
   "cell_type": "code",
   "execution_count": 9,
   "id": "dae026fd-4f40-426a-b905-023202de0a0a",
   "metadata": {},
   "outputs": [
    {
     "data": {
      "text/plain": [
       "fastai.losses.LabelSmoothingCrossEntropyFlat"
      ]
     },
     "execution_count": 9,
     "metadata": {},
     "output_type": "execute_result"
    }
   ],
   "source": [
    "LabelSmoothingCrossEntropyFlat"
   ]
  },
  {
   "cell_type": "code",
   "execution_count": 13,
   "id": "9955c295-ff0a-4af5-9ae4-cf776da79abb",
   "metadata": {},
   "outputs": [],
   "source": [
    "class Learner:\n",
    "    def __init__(self, dataloaders, model, loss_fn, opt):\n",
    "        self.train_dl = dataloaders[0]\n",
    "        self.valid_dl = dataloaders[1]\n",
    "        self.model = model\n",
    "        self.opt = opt(self.model.parameters(), lr=0.01)\n",
    "        self.loss_fn = loss_fn\n",
    "        \n",
    "    \n",
    "    def train_epoch(self):\n",
    "        self.model.train()\n",
    "        total_loss = 0\n",
    "        for i, (xb, yb) in enumerate(self.train_dl, 1):\n",
    "            xb = xb.view(xb.size(0), -1)  # Flatten input to [batch_size, 28*28]\n",
    "            preds = self.model(xb)\n",
    "            loss = self.loss_fn(preds, yb.long())\n",
    "            total_loss += loss.item()\n",
    "\n",
    "            loss.backward()\n",
    "            self.opt.step()\n",
    "            self.opt.zero_grad()\n",
    "\n",
    "            # Print loss every 100 batches for monitoring\n",
    "            if i % 100 == 0:\n",
    "                print(f\"Batch {i}: Loss = {loss.item():.4f}\")\n",
    "                \n",
    "        avg_loss = total_loss / len(self.train_dl)\n",
    "        print(f\"Average training loss: {avg_loss:.4f}\") \n",
    "        \n",
    "\n",
    "    def batch_accuracy(self, preds, yb):\n",
    "        probs = torch.softmax(preds, dim=1)\n",
    "        winners = probs.argmax(dim=1)\n",
    "        corrects = (winners == yb)\n",
    "        accuracy = corrects.sum().float() / float(yb.size(0))\n",
    "        return accuracy\n",
    "\n",
    "    \n",
    "    def validate_epoch(self):\n",
    "        self.model.eval()\n",
    "        accs = []\n",
    "        total_loss = 0\n",
    "        with torch.no_grad():  # Disable gradient calculation for validation\n",
    "            for i, (xb, yb) in enumerate(self.valid_dl, 1):\n",
    "                xb = xb.view(xb.size(0), -1)  # Flatten input\n",
    "                preds = self.model(xb)\n",
    "                loss = self.loss_fn(preds, yb.long())\n",
    "                total_loss += loss.item()\n",
    "                \n",
    "                accs.append(self.batch_accuracy(preds, yb))\n",
    "                \n",
    "                # Print loss every 100 validation batches\n",
    "                if i % 100 == 0:\n",
    "                    print(f\"Validation Batch {i}: Loss = {loss.item():.4f}\")\n",
    "        \n",
    "        avg_loss = total_loss / len(self.valid_dl)\n",
    "        avg_acc = torch.stack(accs).mean().item()\n",
    "        \n",
    "        print(f\"Validation Loss: {avg_loss:.4f}, Accuracy: {avg_acc:.4f}\")\n",
    "        return avg_acc\n",
    "\n",
    "\n",
    "    def fit(self, n):\n",
    "        for epoch in range(n):\n",
    "            print(f\"Epoch {epoch + 1}/{n}:\")\n",
    "            self.train_epoch()\n",
    "            val_acc = self.validate_epoch()\n",
    "            print(f\"Epoch {epoch + 1} Validation Accuracy: {val_acc:.4f}\")\n",
    "            print('-' * 50)\n",
    "\n",
    "\n",
    "    def save_model(self,file_path):\n",
    "        torch.save(self.model.state_dict(), file_path)\n",
    "        print(f\"Model saved to {file_path}\")\n",
    "        \n",
    "\n",
    "        "
   ]
  },
  {
   "cell_type": "markdown",
   "id": "68c3a7f8-fa89-48e9-8b54-a6ec1278d95f",
   "metadata": {},
   "source": [
    "## Train the model"
   ]
  },
  {
   "cell_type": "code",
   "execution_count": 14,
   "id": "7d2c5f05-b708-48eb-855d-640604c97efe",
   "metadata": {},
   "outputs": [
    {
     "name": "stdout",
     "output_type": "stream",
     "text": [
      "Epoch 1/5:\n",
      "Batch 100: Loss = 0.4862\n",
      "Batch 200: Loss = 0.5456\n",
      "Batch 300: Loss = 0.4220\n",
      "Batch 400: Loss = 0.3294\n",
      "Batch 500: Loss = 0.1893\n",
      "Batch 600: Loss = 0.4251\n",
      "Batch 700: Loss = 0.3516\n",
      "Batch 800: Loss = 0.5119\n",
      "Batch 900: Loss = 0.5480\n",
      "Average training loss: 0.4073\n",
      "Validation Batch 100: Loss = 0.3667\n",
      "Validation Loss: 0.2546, Accuracy: 0.9253\n",
      "Epoch 1 Validation Accuracy: 0.9253\n",
      "--------------------------------------------------\n",
      "Epoch 2/5:\n",
      "Batch 100: Loss = 0.3347\n",
      "Batch 200: Loss = 0.5057\n",
      "Batch 300: Loss = 0.3365\n",
      "Batch 400: Loss = 0.5292\n",
      "Batch 500: Loss = 0.6286\n",
      "Batch 600: Loss = 0.5478\n",
      "Batch 700: Loss = 0.3945\n",
      "Batch 800: Loss = 0.3957\n",
      "Batch 900: Loss = 0.4194\n",
      "Average training loss: 0.3941\n",
      "Validation Batch 100: Loss = 0.3671\n",
      "Validation Loss: 0.2461, Accuracy: 0.9282\n",
      "Epoch 2 Validation Accuracy: 0.9282\n",
      "--------------------------------------------------\n",
      "Epoch 3/5:\n",
      "Batch 100: Loss = 0.5239\n",
      "Batch 200: Loss = 0.3580\n",
      "Batch 300: Loss = 0.3680\n",
      "Batch 400: Loss = 0.3874\n",
      "Batch 500: Loss = 0.3589\n",
      "Batch 600: Loss = 0.3896\n",
      "Batch 700: Loss = 0.4820\n",
      "Batch 800: Loss = 0.3405\n",
      "Batch 900: Loss = 0.3806\n",
      "Average training loss: 0.3820\n",
      "Validation Batch 100: Loss = 0.3252\n",
      "Validation Loss: 0.2361, Accuracy: 0.9298\n",
      "Epoch 3 Validation Accuracy: 0.9298\n",
      "--------------------------------------------------\n",
      "Epoch 4/5:\n",
      "Batch 100: Loss = 0.4897\n",
      "Batch 200: Loss = 0.3669\n",
      "Batch 300: Loss = 0.5544\n",
      "Batch 400: Loss = 0.1967\n",
      "Batch 500: Loss = 0.3043\n",
      "Batch 600: Loss = 0.2670\n",
      "Batch 700: Loss = 0.4514\n",
      "Batch 800: Loss = 0.3751\n",
      "Batch 900: Loss = 0.2552\n",
      "Average training loss: 0.3764\n",
      "Validation Batch 100: Loss = 0.3575\n",
      "Validation Loss: 0.2293, Accuracy: 0.9337\n",
      "Epoch 4 Validation Accuracy: 0.9337\n",
      "--------------------------------------------------\n",
      "Epoch 5/5:\n",
      "Batch 100: Loss = 0.2885\n",
      "Batch 200: Loss = 0.4153\n",
      "Batch 300: Loss = 0.4995\n",
      "Batch 400: Loss = 0.5244\n",
      "Batch 500: Loss = 0.5483\n",
      "Batch 600: Loss = 0.2272\n",
      "Batch 700: Loss = 0.3830\n",
      "Batch 800: Loss = 0.4213\n",
      "Batch 900: Loss = 0.1566\n",
      "Average training loss: 0.3614\n",
      "Validation Batch 100: Loss = 0.3427\n",
      "Validation Loss: 0.2230, Accuracy: 0.9323\n",
      "Epoch 5 Validation Accuracy: 0.9323\n",
      "--------------------------------------------------\n"
     ]
    }
   ],
   "source": [
    "mnist_learner = Learner(dls, simple_net.to(device), CrossEntropyLossFlat(), SGD)\n",
    "mnist_learner.fit(5)"
   ]
  },
  {
   "cell_type": "markdown",
   "id": "1f4a905b-7e44-4a35-b72a-068d7a77eeeb",
   "metadata": {},
   "source": [
    "### Evaluate and interpret"
   ]
  },
  {
   "cell_type": "code",
   "execution_count": 17,
   "id": "e8c0823c-c1aa-493a-9d42-f91774b0e3a7",
   "metadata": {},
   "outputs": [
    {
     "name": "stdout",
     "output_type": "stream",
     "text": [
      "Model saved to mnist_model.pth\n"
     ]
    }
   ],
   "source": [
    "#Saving the model after training\n",
    "mnist_learner.save_model('mnist_model.pth')\n"
   ]
  },
  {
   "cell_type": "code",
   "execution_count": 35,
   "id": "1bf2378e-aab3-4277-8336-0fa724462e72",
   "metadata": {},
   "outputs": [
    {
     "name": "stdout",
     "output_type": "stream",
     "text": [
      "digit_recognizer_fastai.ipynb        \u001b[34mmicrograd\u001b[m\u001b[m/\n",
      "digit_recognizer_from_scratch.ipynb  model_full.pth\n",
      "\u001b[34mdigits\u001b[m\u001b[m/                              titanic.xlsx\n",
      "gender_submission.csv                train.csv\n",
      "learner.ipynb\n"
     ]
    }
   ],
   "source": [
    "ls "
   ]
  },
  {
   "cell_type": "code",
   "execution_count": 36,
   "id": "f4ed5b7b-2252-4445-896c-322c1970e929",
   "metadata": {},
   "outputs": [
    {
     "name": "stdout",
     "output_type": "stream",
     "text": [
      "/Users/dagmarmac/edu/fastai/lesson3/digits\n"
     ]
    }
   ],
   "source": [
    "cd digits\n"
   ]
  },
  {
   "cell_type": "code",
   "execution_count": 37,
   "id": "2308604c-c1e9-4f62-90f8-89262b5e5702",
   "metadata": {},
   "outputs": [
    {
     "name": "stdout",
     "output_type": "stream",
     "text": [
      "0.1.png   1.2.png   2.avif    5.1.png   5.3.png   9.1.jpg\n",
      "1.1.jpeg  2.1.jpg   3.1.png   5.2.png   6.1.jpg   9.2.png\n"
     ]
    }
   ],
   "source": [
    "ls"
   ]
  },
  {
   "cell_type": "code",
   "execution_count": 23,
   "id": "4b172996-cfc2-4087-a96c-8ccce5da0791",
   "metadata": {},
   "outputs": [
    {
     "data": {
      "text/plain": [
       "Sequential(\n",
       "  (0): Flatten(start_dim=1, end_dim=-1)\n",
       "  (1): Linear(in_features=784, out_features=30, bias=True)\n",
       "  (2): ReLU()\n",
       "  (3): Dropout(p=0.2, inplace=False)\n",
       "  (4): Linear(in_features=30, out_features=30, bias=True)\n",
       "  (5): ReLU()\n",
       "  (6): Dropout(p=0.2, inplace=False)\n",
       "  (7): Linear(in_features=30, out_features=10, bias=True)\n",
       ")"
      ]
     },
     "execution_count": 23,
     "metadata": {},
     "output_type": "execute_result"
    }
   ],
   "source": [
    "mnist_learner.model"
   ]
  },
  {
   "cell_type": "markdown",
   "id": "af6f366b-01ee-47e1-926e-15ffe8f80374",
   "metadata": {},
   "source": [
    "### Export model"
   ]
  },
  {
   "cell_type": "code",
   "execution_count": null,
   "id": "70d092ca-b220-42e1-968e-5b9fd14aa5ad",
   "metadata": {},
   "outputs": [],
   "source": [
    "#learn.export('model.pkl')"
   ]
  },
  {
   "cell_type": "markdown",
   "id": "1114aec1-aa96-4d1a-94bb-ac14c20bfbf1",
   "metadata": {},
   "source": [
    "### Load exported learner"
   ]
  },
  {
   "cell_type": "code",
   "execution_count": 28,
   "id": "16ae5e15-febf-427d-8179-34d7304ec4d3",
   "metadata": {},
   "outputs": [
    {
     "data": {
      "text/plain": [
       "Sequential(\n",
       "  (0): Flatten(start_dim=1, end_dim=-1)\n",
       "  (1): Linear(in_features=784, out_features=30, bias=True)\n",
       "  (2): ReLU()\n",
       "  (3): Dropout(p=0.2, inplace=False)\n",
       "  (4): Linear(in_features=30, out_features=30, bias=True)\n",
       "  (5): ReLU()\n",
       "  (6): Dropout(p=0.2, inplace=False)\n",
       "  (7): Linear(in_features=30, out_features=10, bias=True)\n",
       ")"
      ]
     },
     "execution_count": 28,
     "metadata": {},
     "output_type": "execute_result"
    }
   ],
   "source": [
    "mnist_learner.model.load_state_dict(torch.load('mnist_model.pth', weights_only=True))\n",
    "\n",
    "# Load the saved model state\n",
    "simple_net.load_state_dict(torch.load('mnist_model.pth', weights_only=True))\n",
    "\n",
    "# Now the model is loaded with the saved weights and can be used for inference\n",
    "simple_net.eval()  # Set the model to evaluation mode for inference"
   ]
  },
  {
   "cell_type": "markdown",
   "id": "4f28a254-44ec-4691-8c39-bd1e5d06701d",
   "metadata": {},
   "source": [
    "### Load and predict"
   ]
  },
  {
   "cell_type": "code",
   "execution_count": 46,
   "id": "fda2a460-58bd-4c76-908c-b665834e9a4f",
   "metadata": {},
   "outputs": [
    {
     "name": "stdout",
     "output_type": "stream",
     "text": [
      "Predicted digit: 0\n"
     ]
    }
   ],
   "source": [
    "from PIL import Image\n",
    "import torch\n",
    "import torchvision.transforms as transforms\n",
    "\n",
    "# Step 1: Load and preprocess the image\n",
    "def preprocess_image(image_path):\n",
    "    image = Image.open(image_path).convert('L')  # Open the image and convert to grayscale\n",
    "    transform = transforms.Compose([\n",
    "        transforms.Resize((28, 28)),  # Resize to 28x28\n",
    "        transforms.ToTensor(),        # Convert to a tensor\n",
    "        transforms.Normalize((0.5,), (0.5,))  # Normalize to [-1, 1]\n",
    "    ])\n",
    "    image = transform(image).unsqueeze(0)  # Add batch dimension\n",
    "    return image\n",
    "\n",
    "# Step 2: Perform inference\n",
    "def predict_image(image_path, model):\n",
    "    model.eval()  # Set the model to evaluation mode\n",
    "    image_tensor = preprocess_image(image_path)\n",
    "    with torch.no_grad():\n",
    "        output = model(image_tensor.to(device))\n",
    "        probs = torch.softmax(output, dim=1)\n",
    "        predicted_digit = probs.argmax(dim=1).item()\n",
    "    return predicted_digit\n",
    "\n",
    "# Example usage:\n",
    "img_path = \"/Users/dagmarmac/edu/fastai/lesson3/digits/9.2.png\"\n",
    "predicted_digit = predict_image(img_path, mnist_learner.model)\n",
    "print(f\"Predicted digit: {predicted_digit}\")"
   ]
  },
  {
   "cell_type": "code",
   "execution_count": null,
   "id": "8d3c4846-fe4c-40e0-b8eb-ca20960e08d3",
   "metadata": {},
   "outputs": [],
   "source": []
  }
 ],
 "metadata": {
  "kernelspec": {
   "display_name": "Python 3 (ipykernel)",
   "language": "python",
   "name": "python3"
  },
  "language_info": {
   "codemirror_mode": {
    "name": "ipython",
    "version": 3
   },
   "file_extension": ".py",
   "mimetype": "text/x-python",
   "name": "python",
   "nbconvert_exporter": "python",
   "pygments_lexer": "ipython3",
   "version": "3.12.2"
  }
 },
 "nbformat": 4,
 "nbformat_minor": 5
}
